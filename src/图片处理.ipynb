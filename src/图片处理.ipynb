import cv2

# 读取图像，并转换为灰度图像
img = cv2.imread('image.bmp', cv2.IMREAD_GRAYSCALE)
a, b = img.shape
for i in range(a):
  for j in range(b):
    if img[i][j] == 255:
      print(0, end='')
    else:
      print(3, end='')
  print()


import cv2

# 读取图像，并转换为灰度图像
img_gray = cv2.imread('cqupt2.png', cv2.IMREAD_GRAYSCALE)
img_gray = cv2.resize(img_gray, (50, 40))
a, b = img_gray.shape
for i in range(a):
  for j in range(b):
    if img_gray[i][j] == 255:
      print(0, end='')
    elif 255 > img_gray[i][j] > 100:
      print(3, end='')
    else:
      print(2, end='')
  print()
# 将图像转换为二值图像
threshold_value = 128  # 设定阈值
max_value = 255  # 设定最大像素值
_, img_binary = cv2.threshold(
  img_gray, threshold_value, max_value, cv2.THRESH_BINARY)





import cv2

# 读取图像，并转换为灰度图像
img = cv2.imread('4.png', cv2.IMREAD_GRAYSCALE)
img = cv2.resize(img, (70, 30))
a, b = img.shape
for i in range(a):
  for j in range(b):
    if img[i][j] == 255:
      print(0, end='')
    else:
      print(3, end='')
  print()


import cv2

# 读取图像，并转换为灰度图像
img = cv2.imread('game_background3.jpg')
img = cv2.resize(img, (1000, 800))
cv2.imwrite('game_background3.png', img)


import heapq
from typing import List
# 假设 graph 是一个邻接矩阵，graph[i][j] 是从节点 i 到节点 j 的距离
def dijkstra(start: int, graph: List[List[int]]) -> List[int]:
  V = len(graph)
  distTo = [float('inf')] * V
  distTo[start] = 0

  pq = [(0, start)]  # 使用元组 (distance, node)，以便按照 distance 进行排序

  while pq:
    (dist, curNodeID) = heapq.heappop(pq)
    if dist != distTo[curNodeID]:
      continue

    for weight, nextNodeID in enumerate(graph[curNodeID]):
      if weight is not None:  # 如果两个节点之间有边
        distToNextNode = distTo[curNodeID] + weight
        if distTo[nextNodeID] > distToNextNode:
          distTo[nextNodeID] = distToNextNode
          heapq.heappush(pq, (distToNextNode, nextNodeID))

  return distTo
